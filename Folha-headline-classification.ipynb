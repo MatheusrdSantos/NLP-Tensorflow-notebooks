{
 "cells": [
  {
   "cell_type": "code",
   "execution_count": 1,
   "metadata": {},
   "outputs": [
    {
     "data": {
      "text/html": [
       "<div>\n",
       "<style scoped>\n",
       "    .dataframe tbody tr th:only-of-type {\n",
       "        vertical-align: middle;\n",
       "    }\n",
       "\n",
       "    .dataframe tbody tr th {\n",
       "        vertical-align: top;\n",
       "    }\n",
       "\n",
       "    .dataframe thead th {\n",
       "        text-align: right;\n",
       "    }\n",
       "</style>\n",
       "<table border=\"1\" class=\"dataframe\">\n",
       "  <thead>\n",
       "    <tr style=\"text-align: right;\">\n",
       "      <th></th>\n",
       "      <th>title</th>\n",
       "      <th>text</th>\n",
       "      <th>date</th>\n",
       "      <th>category</th>\n",
       "      <th>subcategory</th>\n",
       "      <th>link</th>\n",
       "    </tr>\n",
       "  </thead>\n",
       "  <tbody>\n",
       "    <tr>\n",
       "      <td>0</td>\n",
       "      <td>Lula diz que está 'lascado', mas que ainda tem...</td>\n",
       "      <td>Com a possibilidade de uma condenação impedir ...</td>\n",
       "      <td>2017-09-10</td>\n",
       "      <td>poder</td>\n",
       "      <td>NaN</td>\n",
       "      <td>http://www1.folha.uol.com.br/poder/2017/10/192...</td>\n",
       "    </tr>\n",
       "    <tr>\n",
       "      <td>1</td>\n",
       "      <td>'Decidi ser escrava das mulheres que sofrem', ...</td>\n",
       "      <td>Para Oumou Sangaré, cantora e ativista malines...</td>\n",
       "      <td>2017-09-10</td>\n",
       "      <td>ilustrada</td>\n",
       "      <td>NaN</td>\n",
       "      <td>http://www1.folha.uol.com.br/ilustrada/2017/10...</td>\n",
       "    </tr>\n",
       "    <tr>\n",
       "      <td>2</td>\n",
       "      <td>Três reportagens da Folha ganham Prêmio Petrob...</td>\n",
       "      <td>Três reportagens da Folha foram vencedoras do ...</td>\n",
       "      <td>2017-09-10</td>\n",
       "      <td>poder</td>\n",
       "      <td>NaN</td>\n",
       "      <td>http://www1.folha.uol.com.br/poder/2017/10/192...</td>\n",
       "    </tr>\n",
       "    <tr>\n",
       "      <td>3</td>\n",
       "      <td>Filme 'Star Wars: Os Últimos Jedi' ganha trail...</td>\n",
       "      <td>A Disney divulgou na noite desta segunda-feira...</td>\n",
       "      <td>2017-09-10</td>\n",
       "      <td>ilustrada</td>\n",
       "      <td>NaN</td>\n",
       "      <td>http://www1.folha.uol.com.br/ilustrada/2017/10...</td>\n",
       "    </tr>\n",
       "    <tr>\n",
       "      <td>4</td>\n",
       "      <td>CBSS inicia acordos com fintechs e quer 30% do...</td>\n",
       "      <td>O CBSS, banco da holding Elopar dos sócios Bra...</td>\n",
       "      <td>2017-09-10</td>\n",
       "      <td>mercado</td>\n",
       "      <td>NaN</td>\n",
       "      <td>http://www1.folha.uol.com.br/mercado/2017/10/1...</td>\n",
       "    </tr>\n",
       "  </tbody>\n",
       "</table>\n",
       "</div>"
      ],
      "text/plain": [
       "                                               title  \\\n",
       "0  Lula diz que está 'lascado', mas que ainda tem...   \n",
       "1  'Decidi ser escrava das mulheres que sofrem', ...   \n",
       "2  Três reportagens da Folha ganham Prêmio Petrob...   \n",
       "3  Filme 'Star Wars: Os Últimos Jedi' ganha trail...   \n",
       "4  CBSS inicia acordos com fintechs e quer 30% do...   \n",
       "\n",
       "                                                text        date   category  \\\n",
       "0  Com a possibilidade de uma condenação impedir ...  2017-09-10      poder   \n",
       "1  Para Oumou Sangaré, cantora e ativista malines...  2017-09-10  ilustrada   \n",
       "2  Três reportagens da Folha foram vencedoras do ...  2017-09-10      poder   \n",
       "3  A Disney divulgou na noite desta segunda-feira...  2017-09-10  ilustrada   \n",
       "4  O CBSS, banco da holding Elopar dos sócios Bra...  2017-09-10    mercado   \n",
       "\n",
       "  subcategory                                               link  \n",
       "0         NaN  http://www1.folha.uol.com.br/poder/2017/10/192...  \n",
       "1         NaN  http://www1.folha.uol.com.br/ilustrada/2017/10...  \n",
       "2         NaN  http://www1.folha.uol.com.br/poder/2017/10/192...  \n",
       "3         NaN  http://www1.folha.uol.com.br/ilustrada/2017/10...  \n",
       "4         NaN  http://www1.folha.uol.com.br/mercado/2017/10/1...  "
      ]
     },
     "execution_count": 1,
     "metadata": {},
     "output_type": "execute_result"
    }
   ],
   "source": [
    "import pandas as pd\n",
    "import numpy as np\n",
    "#articles.csv available  at https://www.kaggle.com/marlesson/news-of-the-site-folhauol\n",
    "articles = pd.read_csv('articles.csv')\n",
    "articles.head()"
   ]
  },
  {
   "cell_type": "code",
   "execution_count": 2,
   "metadata": {
    "scrolled": true
   },
   "outputs": [
    {
     "data": {
      "text/plain": [
       "poder                           0.131826\n",
       "colunas                         0.129432\n",
       "mercado                         0.125529\n",
       "esporte                         0.118106\n",
       "mundo                           0.102542\n",
       "cotidiano                       0.101567\n",
       "ilustrada                       0.097843\n",
       "opiniao                         0.027087\n",
       "paineldoleitor                  0.024010\n",
       "saopaulo                        0.023675\n",
       "tec                             0.013529\n",
       "tv                              0.012822\n",
       "educacao                        0.012679\n",
       "turismo                         0.011392\n",
       "ilustrissima                    0.008446\n",
       "ciencia                         0.007991\n",
       "equilibrioesaude                0.007854\n",
       "sobretudo                       0.006327\n",
       "bbc                             0.005866\n",
       "folhinha                        0.005244\n",
       "empreendedorsocial              0.005034\n",
       "comida                          0.004957\n",
       "asmais                          0.003280\n",
       "ambiente                        0.002939\n",
       "seminariosfolha                 0.002269\n",
       "serafina                        0.001999\n",
       "o-melhor-de-sao-paulo           0.001131\n",
       "vice                            0.000874\n",
       "guia-de-livros-discos-filmes    0.000856\n",
       "topofmind                       0.000515\n",
       "banco-de-dados                  0.000383\n",
       "dw                              0.000287\n",
       "infograficos                    0.000257\n",
       "especial                        0.000257\n",
       "cenarios-2017                   0.000257\n",
       "rfi                             0.000174\n",
       "guia-de-livros-filmes-discos    0.000168\n",
       "multimidia                      0.000162\n",
       "treinamento                     0.000126\n",
       "treinamentocienciaesaude        0.000108\n",
       "mulher                          0.000096\n",
       "euronews                        0.000048\n",
       "ombudsman                       0.000018\n",
       "contas-de-casa                  0.000012\n",
       "2016                            0.000006\n",
       "musica                          0.000006\n",
       "bichos                          0.000006\n",
       "2015                            0.000006\n",
       "Name: category, dtype: float64"
      ]
     },
     "execution_count": 2,
     "metadata": {},
     "output_type": "execute_result"
    }
   ],
   "source": [
    "articles.category.value_counts(normalize=True)"
   ]
  },
  {
   "cell_type": "code",
   "execution_count": 5,
   "metadata": {
    "scrolled": true
   },
   "outputs": [
    {
     "data": {
      "text/plain": [
       "poder                           22022\n",
       "colunas                         21622\n",
       "mercado                         20970\n",
       "esporte                         19730\n",
       "mundo                           17130\n",
       "cotidiano                       16967\n",
       "ilustrada                       16345\n",
       "opiniao                          4525\n",
       "paineldoleitor                   4011\n",
       "saopaulo                         3955\n",
       "tec                              2260\n",
       "tv                               2142\n",
       "educacao                         2118\n",
       "turismo                          1903\n",
       "ilustrissima                     1411\n",
       "ciencia                          1335\n",
       "equilibrioesaude                 1312\n",
       "sobretudo                        1057\n",
       "bbc                               980\n",
       "folhinha                          876\n",
       "empreendedorsocial                841\n",
       "comida                            828\n",
       "asmais                            548\n",
       "ambiente                          491\n",
       "seminariosfolha                   379\n",
       "serafina                          334\n",
       "o-melhor-de-sao-paulo             189\n",
       "vice                              146\n",
       "guia-de-livros-discos-filmes      143\n",
       "topofmind                          86\n",
       "banco-de-dados                     64\n",
       "dw                                 48\n",
       "infograficos                       43\n",
       "cenarios-2017                      43\n",
       "especial                           43\n",
       "rfi                                29\n",
       "guia-de-livros-filmes-discos       28\n",
       "multimidia                         27\n",
       "treinamento                        21\n",
       "treinamentocienciaesaude           18\n",
       "mulher                             16\n",
       "euronews                            8\n",
       "ombudsman                           3\n",
       "contas-de-casa                      2\n",
       "2016                                1\n",
       "musica                              1\n",
       "bichos                              1\n",
       "2015                                1\n",
       "Name: category, dtype: int64"
      ]
     },
     "execution_count": 5,
     "metadata": {},
     "output_type": "execute_result"
    }
   ],
   "source": [
    "articles.category.value_counts()"
   ]
  },
  {
   "cell_type": "code",
   "execution_count": 36,
   "metadata": {},
   "outputs": [
    {
     "data": {
      "text/plain": [
       "array(['50 anos depois da morte, o Che é apenas uma foto na camiseta',\n",
       "       'Afinal, nosso voto tem preço?',\n",
       "       'Cientista dá psicodélico para minicérebros, e eles gostam',\n",
       "       'Reestruturação da Sabesp deverá ser levada à Justiça por setor de limpeza',\n",
       "       'Preservar passado é um dos grandes desafios dos processos de revitalização',\n",
       "       'Não à Copa sem Lionel Messi',\n",
       "       'UNE processa Lollapalooza por suspeita de burlar lei da meia entrada',\n",
       "       \"Esquerda pode tomar democratas, que vivem 'cabo-de-guerra', diz 'NYT'\",\n",
       "       'Putin encontra no Oriente Médio maior triunfo diplomático',\n",
       "       'O candidato da situação'], dtype=object)"
      ]
     },
     "execution_count": 36,
     "metadata": {},
     "output_type": "execute_result"
    }
   ],
   "source": [
    "articles.loc[articles.category=='colunas'].title.iloc[:10].values"
   ]
  },
  {
   "cell_type": "markdown",
   "metadata": {},
   "source": [
    "Let's keep only the 10'st commom headline categories."
   ]
  },
  {
   "cell_type": "code",
   "execution_count": 3,
   "metadata": {},
   "outputs": [
    {
     "data": {
      "text/plain": [
       "(147277, 6)"
      ]
     },
     "execution_count": 3,
     "metadata": {},
     "output_type": "execute_result"
    }
   ],
   "source": [
    "categories = articles.category.value_counts().index[:10]\n",
    "filtered_articles = articles.loc[articles.category.isin(categories)]\n",
    "filtered_articles.shape"
   ]
  },
  {
   "cell_type": "code",
   "execution_count": 44,
   "metadata": {
    "scrolled": true
   },
   "outputs": [
    {
     "data": {
      "text/plain": [
       "poder             0.149528\n",
       "colunas           0.146812\n",
       "mercado           0.142385\n",
       "esporte           0.133965\n",
       "mundo             0.116311\n",
       "cotidiano         0.115205\n",
       "ilustrada         0.110981\n",
       "opiniao           0.030724\n",
       "paineldoleitor    0.027234\n",
       "saopaulo          0.026854\n",
       "Name: category, dtype: float64"
      ]
     },
     "execution_count": 44,
     "metadata": {},
     "output_type": "execute_result"
    }
   ],
   "source": [
    "filtered_articles.category.value_counts(normalize=True)"
   ]
  },
  {
   "cell_type": "code",
   "execution_count": 52,
   "metadata": {},
   "outputs": [
    {
     "data": {
      "text/plain": [
       "array([0., 0., 0., 0., 0., 0., 0., 0., 0., 0.])"
      ]
     },
     "execution_count": 52,
     "metadata": {},
     "output_type": "execute_result"
    }
   ],
   "source": [
    "np.zeros(10)"
   ]
  },
  {
   "cell_type": "code",
   "execution_count": 7,
   "metadata": {},
   "outputs": [
    {
     "data": {
      "text/plain": [
       "array([0., 1., 0., 0., 0., 0., 0., 0., 0., 0.])"
      ]
     },
     "execution_count": 7,
     "metadata": {},
     "output_type": "execute_result"
    }
   ],
   "source": [
    "zeros = np.zeros(10)\n",
    "zeros[np.where(categories=='colunas')] = 1\n",
    "zeros"
   ]
  },
  {
   "cell_type": "code",
   "execution_count": 15,
   "metadata": {},
   "outputs": [],
   "source": [
    "import sentencepiece as spm"
   ]
  },
  {
   "cell_type": "code",
   "execution_count": 16,
   "metadata": {},
   "outputs": [
    {
     "data": {
      "text/plain": [
       "True"
      ]
     },
     "execution_count": 16,
     "metadata": {},
     "output_type": "execute_result"
    }
   ],
   "source": [
    "sp = spm.SentencePieceProcessor()\n",
    "sp.load('m.model')"
   ]
  },
  {
   "cell_type": "code",
   "execution_count": 34,
   "metadata": {},
   "outputs": [],
   "source": [
    "X = filtered_articles.title.apply(lambda x: sp.encode_as_ids(x))"
   ]
  },
  {
   "cell_type": "code",
   "execution_count": 50,
   "metadata": {},
   "outputs": [],
   "source": [
    "def build_target(category):\n",
    "    zeros = np.zeros(10)\n",
    "    zeros[np.where(categories==category)] = 1\n",
    "    return zeros"
   ]
  },
  {
   "cell_type": "code",
   "execution_count": 59,
   "metadata": {},
   "outputs": [
    {
     "data": {
      "text/plain": [
       "0"
      ]
     },
     "execution_count": 59,
     "metadata": {},
     "output_type": "execute_result"
    }
   ],
   "source": [
    "np.where(categories=='poder')[0][0]"
   ]
  },
  {
   "cell_type": "code",
   "execution_count": 60,
   "metadata": {},
   "outputs": [],
   "source": [
    "#y = filtered_articles.category.apply(lambda y: build_target(y))\n",
    "y = filtered_articles.category.apply(lambda y: np.where(categories==y)[0][0])"
   ]
  },
  {
   "cell_type": "code",
   "execution_count": 61,
   "metadata": {},
   "outputs": [
    {
     "data": {
      "text/plain": [
       "0     0\n",
       "1     6\n",
       "2     0\n",
       "3     6\n",
       "4     2\n",
       "5     4\n",
       "6     0\n",
       "7     3\n",
       "8     0\n",
       "10    0\n",
       "Name: category, dtype: int64"
      ]
     },
     "execution_count": 61,
     "metadata": {},
     "output_type": "execute_result"
    }
   ],
   "source": [
    "y[:10]"
   ]
  },
  {
   "cell_type": "code",
   "execution_count": 41,
   "metadata": {},
   "outputs": [],
   "source": [
    "from sklearn.model_selection import train_test_split"
   ]
  },
  {
   "cell_type": "code",
   "execution_count": 62,
   "metadata": {},
   "outputs": [],
   "source": [
    "X_train, X_test, y_train, y_test = train_test_split(X, y, test_size=0.3, stratify=y)"
   ]
  },
  {
   "cell_type": "code",
   "execution_count": 66,
   "metadata": {},
   "outputs": [],
   "source": [
    "import tensorflow as tf"
   ]
  },
  {
   "cell_type": "code",
   "execution_count": 78,
   "metadata": {},
   "outputs": [],
   "source": [
    "bce = tf.keras.losses.BinaryCrossentropy(from_logits=True)"
   ]
  },
  {
   "cell_type": "code",
   "execution_count": 80,
   "metadata": {},
   "outputs": [
    {
     "data": {
      "text/plain": [
       "0.6931472"
      ]
     },
     "execution_count": 80,
     "metadata": {},
     "output_type": "execute_result"
    }
   ],
   "source": [
    "y_true = [[0., 1.], [0., 0.]] \n",
    "y_pred = [[0., 1.], [0., 0.]] \n",
    "bce(y_true, y_pred).numpy()"
   ]
  }
 ],
 "metadata": {
  "kernelspec": {
   "display_name": "Python 3.6.9 64-bit",
   "language": "python",
   "name": "python36964bitef8cd15bf3aa47298b1b19c91130d504"
  },
  "language_info": {
   "codemirror_mode": {
    "name": "ipython",
    "version": 3
   },
   "file_extension": ".py",
   "mimetype": "text/x-python",
   "name": "python",
   "nbconvert_exporter": "python",
   "pygments_lexer": "ipython3",
   "version": "3.6.9"
  }
 },
 "nbformat": 4,
 "nbformat_minor": 2
}
